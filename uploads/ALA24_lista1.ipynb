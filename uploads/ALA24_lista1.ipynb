{
 "cells": [
  {
   "cell_type": "code",
   "execution_count": 62,
   "metadata": {},
   "outputs": [],
   "source": [
    "# Importing necessary libraries\n",
    "import numpy as np\n",
    "import scipy as scp\n",
    "import time"
   ]
  },
  {
   "cell_type": "markdown",
   "metadata": {},
   "source": [
    "## Matrix Multiplication\n",
    "\n",
    "Adding an example with matrix multiplication to give you an example of what you can do to implement LU"
   ]
  },
  {
   "cell_type": "code",
   "execution_count": 63,
   "metadata": {},
   "outputs": [],
   "source": [
    "# Function for manual matrix multiplication\n",
    "def manual_matrix_multiplication(A, B):\n",
    "    m, n = A.shape\n",
    "    n_, p = B.shape\n",
    "    \n",
    "    if n != n_:\n",
    "        print(\"Incompatible matrices. Can't perform multiplication.\")\n",
    "        return\n",
    "    \n",
    "    # Create the result matrix and fill it with zeros\n",
    "    result = np.zeros((m, p))\n",
    "\n",
    "    # Performing matrix multiplication\n",
    "    for i in range(m): # iterate over rows\n",
    "        for j in range(p): # iterate over columns\n",
    "            for k in range(n): # summing over all k\n",
    "                result[i, j] += A[i, k] * B[k, j]\n",
    "    \n",
    "    return result\n"
   ]
  },
  {
   "cell_type": "code",
   "execution_count": 64,
   "metadata": {},
   "outputs": [],
   "source": [
    "# Initialize random matrices A and B\n",
    "m = 100\n",
    "n = 200\n",
    "p = 300\n",
    "A = np.random.rand(m,n)\n",
    "B = np.random.rand(n,p)"
   ]
  },
  {
   "cell_type": "code",
   "execution_count": 65,
   "metadata": {},
   "outputs": [
    {
     "name": "stdout",
     "output_type": "stream",
     "text": [
      "NumPy matrix multiplication took 0.0035200119018554688 seconds.\n",
      "Manual matrix multiplication took 2.887307643890381 seconds.\n",
      "Are both results equal? True\n"
     ]
    }
   ],
   "source": [
    "# Time and run numpy matrix multiplication\n",
    "start_time = time.time()\n",
    "numpy_result = np.dot(A, B)\n",
    "end_time = time.time()\n",
    "print(f\"NumPy matrix multiplication took {end_time - start_time} seconds.\")\n",
    "\n",
    "# Time and run manual matrix multiplication\n",
    "start_time = time.time()\n",
    "manual_result = manual_matrix_multiplication(A, B)\n",
    "end_time = time.time()\n",
    "print(f\"Manual matrix multiplication took {end_time - start_time} seconds.\")\n",
    "\n",
    "print(\"Are both results equal?\", np.allclose(manual_result, numpy_result))"
   ]
  },
  {
   "cell_type": "code",
   "execution_count": 66,
   "metadata": {},
   "outputs": [],
   "source": [
    "# Function for manual matrix multiplication\n",
    "def manual_matrix_multiplication(A, B):\n",
    "    m, n = A.shape\n",
    "    n_, p = B.shape\n",
    "    \n",
    "    if n != n_:\n",
    "        print(\"Incompatible matrices. Can't perform multiplication.\")\n",
    "        return\n",
    "    \n",
    "    # Create the result matrix and fill it with zeros\n",
    "    result = np.zeros((m, p))\n",
    "\n",
    "    # Performing matrix multiplication\n",
    "    for i in range(m): # iterate over rows\n",
    "        for j in range(p): # iterate over columns\n",
    "            for k in range(n): # summing over all k\n",
    "                result[i, j] += A[i, k] * B[k, j]\n",
    "    \n",
    "    return result"
   ]
  },
  {
   "cell_type": "markdown",
   "metadata": {},
   "source": [
    "## LU decomposition\n",
    "\n",
    "Code for calculating the decomposition PA = LU. A is the input matrix P is a permutation matrix, L is triangular inferior and U is triangular superior.\n",
    "Write your implementation in the function below"
   ]
  },
  {
   "cell_type": "code",
   "execution_count": 75,
   "metadata": {},
   "outputs": [],
   "source": [
    "def your_LU_decomposition(A):\n",
    "    n = A.shape[0]\n",
    "    P = np.eye(n)\n",
    "    L = np.eye(n)\n",
    "    U = np.copy(A)            \n",
    "    \n",
    "    # Your implementation goes here\n",
    "    \n",
    "    return P, L, U"
   ]
  },
  {
   "cell_type": "code",
   "execution_count": 76,
   "metadata": {},
   "outputs": [],
   "source": [
    "# Functions for checking the algorithms\n",
    "def check_is_permutation(P):\n",
    "    n = P.shape[0]\n",
    "    if P.shape[1] != n:\n",
    "        return False\t\n",
    "\n",
    "    if np.all((P == 0) | (P == 1)) and \\\n",
    "            np.all(np.sum(P, axis=0) == 1) and \\\n",
    "                np.all(np.sum(P, axis=1) == 1):\n",
    "        return True\n",
    "    else:\n",
    "        return False\n",
    "    \n",
    "\n",
    "def test_LU(A, P, L, U):\n",
    "    \n",
    "    if not check_is_permutation(P):\n",
    "        return False\n",
    "    \n",
    "    if not np.allclose(L, np.tril(L)):\n",
    "        return False\n",
    "\n",
    "    if not np.allclose(U, np.triu(U)):\n",
    "        return False\n",
    "    \n",
    "    return np.allclose(P @ A, L @ U)  "
   ]
  },
  {
   "cell_type": "markdown",
   "metadata": {},
   "source": [
    "After your implementation, run the cell below:"
   ]
  },
  {
   "cell_type": "code",
   "execution_count": null,
   "metadata": {},
   "outputs": [],
   "source": [
    "A = np.random.rand(100, 100)\n",
    "\n",
    "# Time and run scipy LU\n",
    "start_time = time.time()\n",
    "P, L, U = scp.linalg.lu(A)\n",
    "# Scipy gives us PLU decomposition, so we need to transpose P\n",
    "P = P.T\n",
    "end_time = time.time()\n",
    "print(f\"Scipy's LU decomposition took {end_time - start_time} seconds.\")\n",
    "if test_LU(A, P, L, U):\n",
    "    print(\"And it is correct!\")\n",
    "else:\n",
    "    print(\"And it is incorrect!\")\n",
    "\n",
    "# Time and run LU decomposition\n",
    "start_time = time.time()\n",
    "P, L, U = your_LU_decomposition(A)\n",
    "end_time = time.time()\n",
    "print(f\"Your LU decomposition took {end_time - start_time} seconds.\")\n",
    "if test_LU(A, P, L, U):\n",
    "    print(\"And it is correct!\")\n",
    "else:\n",
    "    print(\"And it is incorrect!\")"
   ]
  }
 ],
 "metadata": {
  "kernelspec": {
   "display_name": "Python 3",
   "language": "python",
   "name": "python3"
  },
  "language_info": {
   "codemirror_mode": {
    "name": "ipython",
    "version": 3
   },
   "file_extension": ".py",
   "mimetype": "text/x-python",
   "name": "python",
   "nbconvert_exporter": "python",
   "pygments_lexer": "ipython3",
   "version": "3.11.8"
  }
 },
 "nbformat": 4,
 "nbformat_minor": 2
}

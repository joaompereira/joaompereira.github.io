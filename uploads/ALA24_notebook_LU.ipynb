{
 "cells": [
  {
   "cell_type": "code",
   "execution_count": 1,
   "metadata": {},
   "outputs": [],
   "source": [
    "# Importing necessary libraries\n",
    "import numpy as np\n",
    "import scipy as scp\n",
    "import time"
   ]
  },
  {
   "cell_type": "markdown",
   "metadata": {},
   "source": [
    "## Matrix Multiplication\n",
    "\n",
    "Adding an example with matrix multiplication to give you an example of what you can do to implement LU"
   ]
  },
  {
   "cell_type": "code",
   "execution_count": 2,
   "metadata": {},
   "outputs": [],
   "source": [
    "# Function for manual matrix multiplication\n",
    "def manual_matrix_multiplication(A, B):\n",
    "    m, n = A.shape\n",
    "    n_, p = B.shape\n",
    "    \n",
    "    if n != n_:\n",
    "        print(\"Incompatible matrices. Can't perform multiplication.\")\n",
    "        return\n",
    "    \n",
    "    # Create the result matrix and fill it with zeros\n",
    "    result = np.zeros((m, p))\n",
    "\n",
    "    # Performing matrix multiplication\n",
    "    for i in range(m): # iterate over rows\n",
    "        for j in range(p): # iterate over columns\n",
    "            for k in range(n): # summing over all k\n",
    "                result[i, j] += A[i, k] * B[k, j]\n",
    "    \n",
    "    return result\n"
   ]
  },
  {
   "cell_type": "code",
   "execution_count": 3,
   "metadata": {},
   "outputs": [],
   "source": [
    "# Initialize random matrices A and B\n",
    "m = 100\n",
    "n = 200\n",
    "p = 300\n",
    "A = np.random.rand(m,n)\n",
    "B = np.random.rand(n,p)"
   ]
  },
  {
   "cell_type": "code",
   "execution_count": 4,
   "metadata": {},
   "outputs": [
    {
     "name": "stdout",
     "output_type": "stream",
     "text": [
      "NumPy matrix multiplication took 0.001001119613647461 seconds.\n",
      "Manual matrix multiplication took 2.837029218673706 seconds.\n",
      "Are both results equal? True\n"
     ]
    }
   ],
   "source": [
    "# Time and run numpy matrix multiplication\n",
    "start_time = time.time()\n",
    "numpy_result = np.dot(A, B)\n",
    "end_time = time.time()\n",
    "print(f\"NumPy matrix multiplication took {end_time - start_time} seconds.\")\n",
    "\n",
    "# Time and run manual matrix multiplication\n",
    "start_time = time.time()\n",
    "manual_result = manual_matrix_multiplication(A, B)\n",
    "end_time = time.time()\n",
    "print(f\"Manual matrix multiplication took {end_time - start_time} seconds.\")\n",
    "\n",
    "print(\"Are both results equal?\", np.allclose(manual_result, numpy_result))"
   ]
  },
  {
   "cell_type": "code",
   "execution_count": 5,
   "metadata": {},
   "outputs": [],
   "source": [
    "# Function for manual matrix multiplication\n",
    "def manual_matrix_multiplication(A, B):\n",
    "    m, n = A.shape\n",
    "    n_, p = B.shape\n",
    "    \n",
    "    if n != n_:\n",
    "        print(\"Incompatible matrices. Can't perform multiplication.\")\n",
    "        return\n",
    "    \n",
    "    # Create the result matrix and fill it with zeros\n",
    "    result = np.zeros((m, p))\n",
    "\n",
    "    # Performing matrix multiplication\n",
    "    for i in range(m): # iterate over rows\n",
    "        for j in range(p): # iterate over columns\n",
    "            for k in range(n): # summing over all k\n",
    "                result[i, j] += A[i, k] * B[k, j]\n",
    "    \n",
    "    return result"
   ]
  },
  {
   "cell_type": "markdown",
   "metadata": {},
   "source": [
    "## Homework 1 - LU decomposition\n",
    "\n",
    "Code for calculating the decomposition PA = LU. A is the input matrix P is a permutation matrix, L is triangular inferior and U is triangular superior.\n",
    "Write your implementation in the function below"
   ]
  },
  {
   "cell_type": "code",
   "execution_count": 6,
   "metadata": {},
   "outputs": [],
   "source": [
    "def your_LU_decomposition(A):\n",
    "    n = A.shape[0]\n",
    "    P = np.eye(n)\n",
    "    L = np.eye(n)\n",
    "    U = np.copy(A)            \n",
    "    \n",
    "    # LU with pivoting implementation\n",
    "    for i in range(n):\n",
    "        # Pivoting\n",
    "        max_index = np.argmax(abs(U[i:, i])) + i\n",
    "        if max_index != i:\n",
    "            # Swap the elements of P and U\n",
    "            P[[i, max_index], :] = P[[max_index, i], :]\n",
    "            U[[i, max_index], :] = U[[max_index, i], :]\n",
    "            # Swap the elements of L if i >= 1\n",
    "            if i >= 1:\n",
    "                L[[i, max_index], :i] = L[[max_index, i], :i]\n",
    "        \n",
    "        # Elimination\n",
    "        for j in range(i+1, n):\n",
    "            L[j, i] = U[j, i] / U[i, i]\n",
    "            U[j, i:] -= L[j, i] * U[i, i:]\n",
    "    \n",
    "    return P, L, U"
   ]
  },
  {
   "cell_type": "code",
   "execution_count": 7,
   "metadata": {},
   "outputs": [],
   "source": [
    "# Functions for checking the algorithms\n",
    "def check_is_permutation(P):\n",
    "    n = P.shape[0]\n",
    "    if P.shape[1] != n:\n",
    "        return False\t\n",
    "\n",
    "    if np.all((P == 0) | (P == 1)) and \\\n",
    "            np.all(np.sum(P, axis=0) == 1) and \\\n",
    "                np.all(np.sum(P, axis=1) == 1):\n",
    "        return True\n",
    "    else:\n",
    "        return False\n",
    "    \n",
    "\n",
    "def test_LU(A, P, L, U):\n",
    "    \n",
    "    if not check_is_permutation(P):\n",
    "        return False\n",
    "    \n",
    "    if not np.allclose(L, np.tril(L)):\n",
    "        return False\n",
    "\n",
    "    if not np.allclose(U, np.triu(U)):\n",
    "        return False\n",
    "    \n",
    "    return np.allclose(P @ A, L @ U)  "
   ]
  },
  {
   "cell_type": "markdown",
   "metadata": {},
   "source": [
    "After your implementation, run the cell below:"
   ]
  },
  {
   "cell_type": "code",
   "execution_count": 8,
   "metadata": {},
   "outputs": [
    {
     "name": "stdout",
     "output_type": "stream",
     "text": [
      "Scipy's LU decomposition took 0.15945124626159668 seconds.\n",
      "And it is correct!\n",
      "Your LU decomposition took 0.01623249053955078 seconds.\n",
      "And it is correct!\n"
     ]
    }
   ],
   "source": [
    "A = np.random.rand(100, 100)\n",
    "\n",
    "# Time and run scipy LU\n",
    "start_time = time.time()\n",
    "P, L, U = scp.linalg.lu(A)\n",
    "# Scipy gives us PLU decomposition, so we need to transpose P\n",
    "P = P.T\n",
    "end_time = time.time()\n",
    "print(f\"Scipy's LU decomposition took {end_time - start_time} seconds.\")\n",
    "if test_LU(A, P, L, U):\n",
    "    print(\"And it is correct!\")\n",
    "else:\n",
    "    print(\"And it is incorrect!\")\n",
    "\n",
    "# Time and run LU decomposition\n",
    "start_time = time.time()\n",
    "P, L, U = your_LU_decomposition(A)\n",
    "end_time = time.time()\n",
    "print(f\"Your LU decomposition took {end_time - start_time} seconds.\")\n",
    "if test_LU(A, P, L, U):\n",
    "    print(\"And it is correct!\")\n",
    "else:\n",
    "    print(\"And it is incorrect!\")"
   ]
  },
  {
   "cell_type": "markdown",
   "metadata": {},
   "source": [
    "## Homework 2 - Echelon form\n",
    "\n",
    "Code for calculating the echelon form of A. A is the input matrix and it should return (P, L, U), where P is a permutation matrix, L is triangular inferior and U is the echelon form. It should be PA = LU. \n",
    "Write your implementation in the function below"
   ]
  },
  {
   "cell_type": "code",
   "execution_count": 9,
   "metadata": {},
   "outputs": [],
   "source": [
    "def your_echelon_form(A, tol=1e-10):\n",
    "    # Because of numerical error, one often does not get exact 0 on elimination \n",
    "    # You should declare that there is no pivot in a column if all elements \n",
    "    # in that column are smaller than tol\n",
    "    \n",
    "    m, n = A.shape\n",
    "    P = np.eye(m)\n",
    "    L = np.eye(m)\n",
    "    U = np.copy(A)\n",
    "    \n",
    "    # Implement your Echelon form algorithm here            \n",
    "    \n",
    "    return P, L, U"
   ]
  },
  {
   "cell_type": "code",
   "execution_count": 10,
   "metadata": {},
   "outputs": [],
   "source": [
    "# Functions for checking the algorithms\n",
    "def check_is_permutation(P):\n",
    "    n = P.shape[0]\n",
    "    if P.shape[1] != n:\n",
    "        return False\t\n",
    "\n",
    "    if np.all((P == 0) | (P == 1)) and \\\n",
    "            np.all(np.sum(P, axis=0) == 1) and \\\n",
    "                np.all(np.sum(P, axis=1) == 1):\n",
    "        return True\n",
    "    else:\n",
    "        return False\n",
    "\n",
    "def test_echelon_form(U, tol=1e-10):\n",
    "    # Test that matrix U is echelon form\n",
    "    m, n = U.shape\n",
    "    pivot_column = -1\n",
    "    for i in range(m):\n",
    "        # Find pivot (first element in row bigger than tol in absolute value)\n",
    "        pivot_column, old_pivot_column = np.nonzero(abs(U[i, :]) > tol)[0][0], pivot_column\n",
    "\n",
    "        if pivot_column.size == 0:\n",
    "            pivot_column = n + 1\n",
    "        elif pivot_column <= old_pivot_column:\n",
    "            return False\n",
    "        \n",
    "    return True\n",
    "\n",
    "def test_echelon_decomposition(A, P, L, U, tol=1e-10):\n",
    "    \n",
    "    if not check_is_permutation(P):\n",
    "        return False\n",
    "    \n",
    "    if not np.allclose(L, np.tril(L)):\n",
    "        return False\n",
    "\n",
    "    if not test_echelon_form(U, tol=1e-10):\n",
    "        return False\n",
    "    \n",
    "    return np.allclose(P @ A, L @ U)"
   ]
  },
  {
   "cell_type": "code",
   "execution_count": 16,
   "metadata": {},
   "outputs": [
    {
     "name": "stdout",
     "output_type": "stream",
     "text": [
      "Scipy's LU decomposition took 0.004428863525390625 seconds.\n",
      "And it is correct!\n",
      "Your LU decomposition took 0.015688657760620117 seconds.\n",
      "And it is correct!\n"
     ]
    }
   ],
   "source": [
    "A = np.random.rand(100, 100)\n",
    "\n",
    "P, L, U = scp.linalg.lu(np.random.rand(100, 100))\n",
    "P, L, U = scp.linalg.lu(np.random.rand(100, 100))\n",
    "\n",
    "# Time and run scipy LU\n",
    "start_time = time.time()\n",
    "P, L, U = scp.linalg.lu(A)\n",
    "# Scipy gives us PLU decomposition, so we need to transpose P\n",
    "P = P.T\n",
    "end_time = time.time()\n",
    "print(f\"Scipy's LU decomposition took {end_time - start_time} seconds.\")\n",
    "if test_echelon_decomposition(A, P, L, U):\n",
    "    print(\"And it is correct!\")\n",
    "else:\n",
    "    print(\"And it is incorrect!\")\n",
    "\n",
    "# Time and run LU decomposition\n",
    "start_time = time.time()\n",
    "P, L, U = your_LU_decomposition(A)\n",
    "end_time = time.time()\n",
    "print(f\"Your LU decomposition took {end_time - start_time} seconds.\")\n",
    "if test_echelon_decomposition(A, P, L, U):\n",
    "    print(\"And it is correct!\")\n",
    "else:\n",
    "    print(\"And it is incorrect!\")"
   ]
  },
  {
   "cell_type": "code",
   "execution_count": null,
   "metadata": {},
   "outputs": [],
   "source": []
  }
 ],
 "metadata": {
  "kernelspec": {
   "display_name": "Python 3",
   "language": "python",
   "name": "python3"
  },
  "language_info": {
   "codemirror_mode": {
    "name": "ipython",
    "version": 3
   },
   "file_extension": ".py",
   "mimetype": "text/x-python",
   "name": "python",
   "nbconvert_exporter": "python",
   "pygments_lexer": "ipython3",
   "version": "3.11.8"
  }
 },
 "nbformat": 4,
 "nbformat_minor": 2
}

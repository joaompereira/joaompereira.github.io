{
 "cells": [
  {
   "cell_type": "code",
   "execution_count": null,
   "metadata": {},
   "outputs": [],
   "source": [
    "%load_ext autoreload\n",
    "%autoreload 2\n",
    "\n",
    "# Importing necessary libraries\n",
    "import numpy as np\n",
    "import scipy as scp\n",
    "import time"
   ]
  },
  {
   "cell_type": "markdown",
   "metadata": {},
   "source": [
    "## Homework 3 - QR decomposition\n",
    "\n"
   ]
  },
  {
   "cell_type": "code",
   "execution_count": null,
   "metadata": {},
   "outputs": [],
   "source": [
    "# Function for manual matrix multiplication\n",
    "def QR_by_Gram_Schmidt_Orthogonalization(A):\n",
    "    m, n = A.shape\n",
    "    \n",
    "    k = min(m, n)\n",
    "    Q = np.zeros((m, k))\n",
    "    R = np.zeros((k, n))\n",
    "    \n",
    "    # Your Implementation goes here\n",
    "    \n",
    "    return Q, R"
   ]
  },
  {
   "cell_type": "code",
   "execution_count": null,
   "metadata": {},
   "outputs": [],
   "source": [
    "def test_QR(A, alg):\n",
    "        \n",
    "    start = time.time()\n",
    "    Q, R = alg(A)\n",
    "    print('\\ttime:', time.time() - start)\n",
    "    \n",
    "    # We might see this formula later in the course\n",
    "    U, S, V = np.linalg.svd(Q)\n",
    "    print('\\tHow far is Q from orthogonal:', np.linalg.norm(S-1))\n",
    "    \n",
    "    print('\\tHow far is R from triangular:', np.linalg.norm(np.triu(R) - R, 'fro'))\n",
    "    \n",
    "    print('\\tHow far is A from Q @ R:', np.linalg.norm(A - Q @ R, 'fro'))\n",
    "\n",
    "\n",
    "# The first example is a 200x200 matrix with not so big condition number\n",
    "# The second one is a 5x5 matrix known for having a worse condition number \n",
    "# The third one is a 10x10 matrix with a even worse condition number \n",
    "random_A = np.random.randn(200,200)\n",
    "\n",
    "algs = ['Scipy QR', 'QR by Gram-Schmidt Orthogonalization']\n",
    "\n",
    "for i, alg in enumerate([scp.linalg.qr, QR_by_Gram_Schmidt_Orthogonalization]):\n",
    "    print('\\n:: ', algs[i], ' ::')\n",
    "    \n",
    "    print('- The first example is a 200x200 matrix with not so big condition number')\n",
    "    test_QR(random_A, alg)\n",
    "    \n",
    "    print('- The second example is a 5x5 matrix Hilbert matrix')\n",
    "    print('  Hilbert matrices are known for having bad condition numbers')\n",
    "    test_QR(scp.linalg.hilbert(5), alg)\n",
    "    \n",
    "    print('- The last example is a 10x10 Hilbert matrix')\n",
    "    test_QR(scp.linalg.hilbert(10), alg)"
   ]
  }
 ],
 "metadata": {
  "kernelspec": {
   "display_name": "Python 3",
   "language": "python",
   "name": "python3"
  },
  "language_info": {
   "codemirror_mode": {
    "name": "ipython",
    "version": 3
   },
   "file_extension": ".py",
   "mimetype": "text/x-python",
   "name": "python",
   "nbconvert_exporter": "python",
   "pygments_lexer": "ipython3",
   "version": "3.11.8"
  }
 },
 "nbformat": 4,
 "nbformat_minor": 2
}

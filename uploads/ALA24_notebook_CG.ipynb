{
 "cells": [
  {
   "cell_type": "code",
   "execution_count": null,
   "metadata": {},
   "outputs": [],
   "source": [
    "%load_ext autoreload\n",
    "%autoreload 2\n",
    "\n",
    "# Importing necessary libraries\n",
    "import numpy as np\n",
    "import scipy as scp\n",
    "import matplotlib.pyplot as plt\n",
    "import matplotlib as mpl\n",
    "from timeit import default_timer as timer\n"
   ]
  },
  {
   "cell_type": "markdown",
   "metadata": {},
   "source": [
    "## Homework 8\n",
    "\n",
    "In this homework you should implement the conjugate gradient method for solving systems with PSD matrices. \n",
    "\n",
    "### First task\n",
    "\n",
    "Write your implementation of the conjugate gradient method below"
   ]
  },
  {
   "cell_type": "code",
   "execution_count": null,
   "metadata": {},
   "outputs": [],
   "source": [
    "def conjugate_gradient(A, b):\n",
    "    n = A.shape[0]\n",
    "    \n",
    "    ## Implement the conjugate gradient algorithm here\n",
    "    \n",
    "        \n",
    "    return x"
   ]
  },
  {
   "cell_type": "markdown",
   "metadata": {},
   "source": [
    "Something I did not say in class, is that the number of iterations of the conjugate gradient method is less if the matrix has a lower condition number. You will witness this in the next task:\n",
    "\n",
    "### Second Task\n",
    "\n",
    "Set $n=200$ and generate for some $\\tau=10,100,1000$, generate a diagonal matrix $D$ with diagonal $d_{ii}=\\tau^{\\frac{i-1}{199}}$ (this way, the diagonal matrix will have condition number $=\\tau$). For each of these matrices, sample a random Gaussian vector in $b\\in\\mathbb{R}^{200}$ and solve the system $D x = b$ (up to tolerance = 10^-6) using the conjugate gradient method. Report the number of iterations it took to converge in each case.\n"
   ]
  },
  {
   "cell_type": "code",
   "execution_count": null,
   "metadata": {},
   "outputs": [],
   "source": [
    "for tau in [10, 100, 1000]:\n",
    "        \n",
    "    ## Implementation here"
   ]
  }
 ],
 "metadata": {
  "kernelspec": {
   "display_name": "Python 3",
   "language": "python",
   "name": "python3"
  },
  "language_info": {
   "codemirror_mode": {
    "name": "ipython",
    "version": 3
   },
   "file_extension": ".py",
   "mimetype": "text/x-python",
   "name": "python",
   "nbconvert_exporter": "python",
   "pygments_lexer": "ipython3",
   "version": "3.11.9"
  }
 },
 "nbformat": 4,
 "nbformat_minor": 2
}
